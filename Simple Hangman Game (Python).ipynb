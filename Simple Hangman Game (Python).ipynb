{
 "cells": [
  {
   "cell_type": "code",
   "execution_count": 1,
   "id": "e72596f6",
   "metadata": {},
   "outputs": [
    {
     "name": "stdout",
     "output_type": "stream",
     "text": [
      "_ _ _\n",
      "Guess a letter: n\n",
      "_ _ _\n",
      "Guess a letter: c\n",
      "_ _ _\n",
      "Guess a letter: a\n",
      "_ a _\n",
      "Guess a letter: t\n",
      "_ a t\n",
      "Guess a letter: b\n",
      "You won! The word was bat\n"
     ]
    }
   ],
   "source": [
    "# list of words to be used\n",
    "words = [\"bat\", \"cat\", \"dogs\", \"mouse\", \"donkey\"]\n",
    "\n",
    "# select a random word from the list\n",
    "import random\n",
    "word = random.choice(words)\n",
    "\n",
    "# create a list of underscores the same length as the word to represent the \n",
    "# letters that have not been guessed yet\n",
    "guesses = [\"_\" for letter in word]\n",
    "\n",
    "# set the number of remaining chances to 6\n",
    "chances = 6\n",
    "\n",
    "# start the game loop\n",
    "while chances > 0:\n",
    "  # print the current state of the word\n",
    "  print(\" \".join(guesses))\n",
    "  \n",
    "  # prompt the user to guess a letter\n",
    "  letter = input(\"Guess a letter: \")\n",
    "  \n",
    "  # check if the letter is in the word\n",
    "  if letter in word:\n",
    "    # if it is, update the list of guesses with the correct letter\n",
    "    for i in range(len(word)):\n",
    "      if word[i] == letter:\n",
    "        guesses[i] = letter\n",
    "  else:\n",
    "    # if it is not, decrease the number of chances\n",
    "    chances -= 1\n",
    "  \n",
    "  # check if the word has been guessed\n",
    "  if \"_\" not in guesses:\n",
    "    print(\"You won! The word was\", word)\n",
    "    break\n",
    "\n",
    "# if the loop has exited, the player has run out of chances\n",
    "if \"_\" in guesses:\n",
    "  print(\"You lost! The word was\", word)"
   ]
  },
  {
   "cell_type": "code",
   "execution_count": null,
   "id": "f99eb613",
   "metadata": {},
   "outputs": [],
   "source": []
  }
 ],
 "metadata": {
  "kernelspec": {
   "display_name": "Python 3 (ipykernel)",
   "language": "python",
   "name": "python3"
  },
  "language_info": {
   "codemirror_mode": {
    "name": "ipython",
    "version": 3
   },
   "file_extension": ".py",
   "mimetype": "text/x-python",
   "name": "python",
   "nbconvert_exporter": "python",
   "pygments_lexer": "ipython3",
   "version": "3.9.13"
  }
 },
 "nbformat": 4,
 "nbformat_minor": 5
}
